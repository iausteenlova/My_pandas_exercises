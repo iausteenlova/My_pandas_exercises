{
 "cells": [
  {
   "cell_type": "code",
   "execution_count": 1,
   "metadata": {},
   "outputs": [],
   "source": [
    "import pandas as pd\n",
    "import numpy as np"
   ]
  },
  {
   "cell_type": "code",
   "execution_count": 2,
   "metadata": {},
   "outputs": [],
   "source": [
    "rng = pd.date_range('1/1/2011', periods=72, freq='H')\n",
    "ts = pd.Series(np.random.randn(len(rng)), index=rng)"
   ]
  },
  {
   "cell_type": "code",
   "execution_count": 4,
   "metadata": {},
   "outputs": [
    {
     "data": {
      "text/plain": [
       "2011-01-01 00:00:00   -0.557846\n",
       "2011-01-01 01:00:00    0.157414\n",
       "2011-01-01 02:00:00    0.134595\n",
       "2011-01-01 03:00:00   -1.661392\n",
       "2011-01-01 04:00:00   -0.403703\n",
       "2011-01-01 05:00:00    1.439594\n",
       "Freq: H, dtype: float64"
      ]
     },
     "execution_count": 4,
     "metadata": {},
     "output_type": "execute_result"
    }
   ],
   "source": [
    "ts.head(6)"
   ]
  },
  {
   "cell_type": "code",
   "execution_count": 12,
   "metadata": {},
   "outputs": [
    {
     "name": "stdout",
     "output_type": "stream",
     "text": [
      "95\n"
     ]
    }
   ],
   "source": [
    "#  Use of asfreq()\n",
    "cnvrtd = ts.asfreq('45Min',method = 'nearest')\n",
    "cnvrtd.head(6)\n",
    "print(len(cnvrtd))"
   ]
  },
  {
   "cell_type": "markdown",
   "metadata": {},
   "source": [
    "* it's like expanding your data for clearer analysis... and You can use different methods instead of 'pad' <<"
   ]
  },
  {
   "cell_type": "markdown",
   "metadata": {},
   "source": [
    "#### Does asfreq() change the of rows?\n",
    "> Yes ! definitely changing the no. of rows"
   ]
  },
  {
   "cell_type": "markdown",
   "metadata": {},
   "source": [
    "##### What do the different methods of filling values?"
   ]
  },
  {
   "cell_type": "code",
   "execution_count": null,
   "metadata": {},
   "outputs": [],
   "source": [
    "# method : {‘backfill’, ‘bfill’, ‘pad’, ‘ffill’, None}"
   ]
  },
  {
   "cell_type": "markdown",
   "metadata": {},
   "source": [
    "> * Backfill or bfill : just copy's the data from previous observation\n",
    "* pad or ffill : just copy's data from next observation\n",
    "* nearest : ffill or bfill which is nearest"
   ]
  },
  {
   "cell_type": "code",
   "execution_count": 14,
   "metadata": {},
   "outputs": [
    {
     "name": "stdout",
     "output_type": "stream",
     "text": [
      "48\n"
     ]
    }
   ],
   "source": [
    "converted = ts.asfreq('90Min', method = 'bfill')\n",
    "converted.head(6)\n",
    "print(len(converted))"
   ]
  },
  {
   "cell_type": "markdown",
   "metadata": {},
   "source": [
    "#### What's the difference between going to a higher frequency and a lower frequency?"
   ]
  },
  {
   "cell_type": "markdown",
   "metadata": {},
   "source": [
    " Higher frequency Making the data expanding for details. and viceversa"
   ]
  },
  {
   "cell_type": "markdown",
   "metadata": {},
   "source": [
    "#### What if you want to downsample and you don't want to ffill or bfill?"
   ]
  },
  {
   "cell_type": "markdown",
   "metadata": {},
   "source": [
    "> use of resampling with mean , sum..."
   ]
  },
  {
   "cell_type": "code",
   "execution_count": 20,
   "metadata": {},
   "outputs": [
    {
     "data": {
      "text/plain": [
       "2011-01-01 00:00:00   -0.557846\n",
       "2011-01-01 00:25:00    0.000000\n",
       "2011-01-01 00:50:00    0.157414\n",
       "2011-01-01 01:15:00    0.000000\n",
       "2011-01-01 01:40:00    0.134595\n",
       "2011-01-01 02:05:00    0.000000\n",
       "2011-01-01 02:30:00    0.000000\n",
       "2011-01-01 02:55:00   -1.661392\n",
       "2011-01-01 03:20:00    0.000000\n",
       "2011-01-01 03:45:00   -0.403703\n",
       "2011-01-01 04:10:00    0.000000\n",
       "2011-01-01 04:35:00    0.000000\n",
       "2011-01-01 05:00:00    1.439594\n",
       "2011-01-01 05:25:00    0.000000\n",
       "2011-01-01 05:50:00   -0.692769\n",
       "2011-01-01 06:15:00    0.000000\n",
       "2011-01-01 06:40:00    1.422767\n",
       "2011-01-01 07:05:00    0.000000\n",
       "2011-01-01 07:30:00    0.000000\n",
       "2011-01-01 07:55:00   -0.700930\n",
       "2011-01-01 08:20:00    0.000000\n",
       "2011-01-01 08:45:00    1.301578\n",
       "2011-01-01 09:10:00    0.000000\n",
       "2011-01-01 09:35:00    0.000000\n",
       "2011-01-01 10:00:00    0.265695\n",
       "2011-01-01 10:25:00    0.000000\n",
       "2011-01-01 10:50:00   -1.825476\n",
       "2011-01-01 11:15:00    0.000000\n",
       "2011-01-01 11:40:00   -0.590217\n",
       "2011-01-01 12:05:00    0.000000\n",
       "                         ...   \n",
       "2011-01-03 10:45:00   -0.799299\n",
       "2011-01-03 11:10:00    0.000000\n",
       "2011-01-03 11:35:00    0.000000\n",
       "2011-01-03 12:00:00    0.469975\n",
       "2011-01-03 12:25:00    0.000000\n",
       "2011-01-03 12:50:00   -1.544597\n",
       "2011-01-03 13:15:00    0.000000\n",
       "2011-01-03 13:40:00    0.358965\n",
       "2011-01-03 14:05:00    0.000000\n",
       "2011-01-03 14:30:00    0.000000\n",
       "2011-01-03 14:55:00   -0.264687\n",
       "2011-01-03 15:20:00    0.000000\n",
       "2011-01-03 15:45:00    1.093207\n",
       "2011-01-03 16:10:00    0.000000\n",
       "2011-01-03 16:35:00    0.000000\n",
       "2011-01-03 17:00:00   -0.483427\n",
       "2011-01-03 17:25:00    0.000000\n",
       "2011-01-03 17:50:00   -1.618229\n",
       "2011-01-03 18:15:00    0.000000\n",
       "2011-01-03 18:40:00    0.836247\n",
       "2011-01-03 19:05:00    0.000000\n",
       "2011-01-03 19:30:00    0.000000\n",
       "2011-01-03 19:55:00    0.622276\n",
       "2011-01-03 20:20:00    0.000000\n",
       "2011-01-03 20:45:00   -1.596938\n",
       "2011-01-03 21:10:00    0.000000\n",
       "2011-01-03 21:35:00    0.000000\n",
       "2011-01-03 22:00:00   -1.329040\n",
       "2011-01-03 22:25:00    0.000000\n",
       "2011-01-03 22:50:00    1.279140\n",
       "Freq: 25T, Length: 171, dtype: float64"
      ]
     },
     "execution_count": 20,
     "metadata": {},
     "output_type": "execute_result"
    }
   ],
   "source": [
    "ts.resample('25Min').sum()"
   ]
  },
  {
   "cell_type": "code",
   "execution_count": 21,
   "metadata": {},
   "outputs": [],
   "source": [
    "# What is the difference between .resample() and .asfreq()?"
   ]
  },
  {
   "cell_type": "code",
   "execution_count": 22,
   "metadata": {},
   "outputs": [],
   "source": [
    "# What are some special things you can do with .resample() you can't do with .asfreq()?"
   ]
  },
  {
   "cell_type": "code",
   "execution_count": null,
   "metadata": {},
   "outputs": [],
   "source": []
  }
 ],
 "metadata": {
  "kernelspec": {
   "display_name": "Python 3",
   "language": "python",
   "name": "python3"
  },
  "language_info": {
   "codemirror_mode": {
    "name": "ipython",
    "version": 3
   },
   "file_extension": ".py",
   "mimetype": "text/x-python",
   "name": "python",
   "nbconvert_exporter": "python",
   "pygments_lexer": "ipython3",
   "version": "3.7.3"
  }
 },
 "nbformat": 4,
 "nbformat_minor": 2
}

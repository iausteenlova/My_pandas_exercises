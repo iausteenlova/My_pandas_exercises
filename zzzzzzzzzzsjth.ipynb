{
 "cells": [
  {
   "cell_type": "code",
   "execution_count": 1,
   "metadata": {},
   "outputs": [],
   "source": [
    "import numpy as np\n",
    "import pandas as pd\n",
    "import matplotlib.pyplot as plt\n",
    "import seaborn as sns"
   ]
  },
  {
   "cell_type": "code",
   "execution_count": 2,
   "metadata": {},
   "outputs": [],
   "source": [
    "jdf = pd.read_json('customersdata.json',lines=True)"
   ]
  },
  {
   "cell_type": "code",
   "execution_count": 3,
   "metadata": {},
   "outputs": [
    {
     "name": "stdout",
     "output_type": "stream",
     "text": [
      "<class 'pandas.core.frame.DataFrame'>\n",
      "RangeIndex: 168 entries, 0 to 167\n",
      "Data columns (total 5 columns):\n",
      "customer          168 non-null object\n",
      "fraudulent        168 non-null bool\n",
      "orders            168 non-null object\n",
      "paymentMethods    168 non-null object\n",
      "transactions      168 non-null object\n",
      "dtypes: bool(1), object(4)\n",
      "memory usage: 5.5+ KB\n"
     ]
    }
   ],
   "source": [
    "jdf.isnull().sum()\n",
    "jdf.info()"
   ]
  },
  {
   "cell_type": "markdown",
   "metadata": {},
   "source": [
    "* There are no Null Values in all the dataset"
   ]
  },
  {
   "cell_type": "code",
   "execution_count": 4,
   "metadata": {},
   "outputs": [],
   "source": [
    "F = jdf['fraudulent']"
   ]
  },
  {
   "cell_type": "code",
   "execution_count": 5,
   "metadata": {},
   "outputs": [
    {
     "data": {
      "text/plain": [
       "(168, 5)"
      ]
     },
     "execution_count": 5,
     "metadata": {},
     "output_type": "execute_result"
    }
   ],
   "source": [
    "jdf.shape"
   ]
  },
  {
   "cell_type": "code",
   "execution_count": 6,
   "metadata": {},
   "outputs": [],
   "source": [
    "jdf=jdf.set_index(np.arange(0+1,168+1))"
   ]
  },
  {
   "cell_type": "code",
   "execution_count": 7,
   "metadata": {},
   "outputs": [
    {
     "data": {
      "text/plain": [
       "{'customerEmail': 'josephhoward@yahoo.com',\n",
       " 'customerPhone': '400-108-5415',\n",
       " 'customerDevice': 'yyeiaxpltf82440jnb3v',\n",
       " 'customerIPAddress': '8.129.104.40',\n",
       " 'customerBillingAddress': '5493 Jones Islands\\nBrownside, CA 51896'}"
      ]
     },
     "execution_count": 7,
     "metadata": {},
     "output_type": "execute_result"
    }
   ],
   "source": [
    "jdf.iloc[0,0]"
   ]
  },
  {
   "cell_type": "code",
   "execution_count": 8,
   "metadata": {},
   "outputs": [],
   "source": [
    "jdf['Email'] = jdf['customer'].apply(lambda x : x['customerEmail'])\n",
    "jdf['Phone'] = jdf['customer'].apply(lambda x : x['customerPhone'])\n",
    "jdf['Device'] = jdf['customer'].apply(lambda x : x['customerDevice'])\n",
    "jdf['IPAddress'] = jdf['customer'].apply(lambda x : x['customerIPAddress'])\n",
    "jdf['BillingAddress'] = jdf['customer'].apply(lambda x : x['customerBillingAddress'])"
   ]
  },
  {
   "cell_type": "code",
   "execution_count": null,
   "metadata": {},
   "outputs": [],
   "source": []
  },
  {
   "cell_type": "code",
   "execution_count": 30,
   "metadata": {},
   "outputs": [],
   "source": [
    "jdf['c_index']=jdf.index"
   ]
  },
  {
   "cell_type": "code",
   "execution_count": 34,
   "metadata": {},
   "outputs": [],
   "source": [
    "jdf = jdf.set_index('c_index')"
   ]
  },
  {
   "cell_type": "code",
   "execution_count": 37,
   "metadata": {},
   "outputs": [
    {
     "data": {
      "text/html": [
       "<div>\n",
       "<style scoped>\n",
       "    .dataframe tbody tr th:only-of-type {\n",
       "        vertical-align: middle;\n",
       "    }\n",
       "\n",
       "    .dataframe tbody tr th {\n",
       "        vertical-align: top;\n",
       "    }\n",
       "\n",
       "    .dataframe thead th {\n",
       "        text-align: right;\n",
       "    }\n",
       "</style>\n",
       "<table border=\"1\" class=\"dataframe\">\n",
       "  <thead>\n",
       "    <tr style=\"text-align: right;\">\n",
       "      <th></th>\n",
       "      <th>fraudulent</th>\n",
       "      <th>orders</th>\n",
       "      <th>paymentMethods</th>\n",
       "      <th>transactions</th>\n",
       "      <th>Email</th>\n",
       "      <th>Phone</th>\n",
       "      <th>Device</th>\n",
       "      <th>IPAddress</th>\n",
       "      <th>BillingAddress</th>\n",
       "    </tr>\n",
       "    <tr>\n",
       "      <th>c_index</th>\n",
       "      <th></th>\n",
       "      <th></th>\n",
       "      <th></th>\n",
       "      <th></th>\n",
       "      <th></th>\n",
       "      <th></th>\n",
       "      <th></th>\n",
       "      <th></th>\n",
       "      <th></th>\n",
       "    </tr>\n",
       "  </thead>\n",
       "  <tbody>\n",
       "    <tr>\n",
       "      <th>123</th>\n",
       "      <td>False</td>\n",
       "      <td>[]</td>\n",
       "      <td>[{'paymentMethodId': 'pkibf1ljc', 'paymentMeth...</td>\n",
       "      <td>[]</td>\n",
       "      <td>kellyfrank@atkinson.com</td>\n",
       "      <td>385.658.6769x97942</td>\n",
       "      <td>7oxxcwtvj7ypxqjgot80</td>\n",
       "      <td>77a1:d842:acfc:5d50:a803:70c1:4f8b:7cfc</td>\n",
       "      <td>05919 Lopez Hollow\\nNoblestad, IN 29012</td>\n",
       "    </tr>\n",
       "  </tbody>\n",
       "</table>\n",
       "</div>"
      ],
      "text/plain": [
       "         fraudulent orders                                     paymentMethods  \\\n",
       "c_index                                                                         \n",
       "123           False     []  [{'paymentMethodId': 'pkibf1ljc', 'paymentMeth...   \n",
       "\n",
       "        transactions                    Email               Phone  \\\n",
       "c_index                                                             \n",
       "123               []  kellyfrank@atkinson.com  385.658.6769x97942   \n",
       "\n",
       "                       Device                                IPAddress  \\\n",
       "c_index                                                                  \n",
       "123      7oxxcwtvj7ypxqjgot80  77a1:d842:acfc:5d50:a803:70c1:4f8b:7cfc   \n",
       "\n",
       "                                  BillingAddress  \n",
       "c_index                                           \n",
       "123      05919 Lopez Hollow\\nNoblestad, IN 29012  "
      ]
     },
     "execution_count": 37,
     "metadata": {},
     "output_type": "execute_result"
    }
   ],
   "source": [
    "jdf.sample()"
   ]
  },
  {
   "cell_type": "code",
   "execution_count": 38,
   "metadata": {},
   "outputs": [],
   "source": [
    "# del jdf['customer']"
   ]
  },
  {
   "cell_type": "code",
   "execution_count": 39,
   "metadata": {},
   "outputs": [
    {
     "data": {
      "text/plain": [
       "[{'orderId': 'nlghpa',\n",
       "  'orderAmount': 45,\n",
       "  'orderState': 'fulfilled',\n",
       "  'orderShippingAddress': '898 Henry Ports\\nNew Keithview, CA 95893-2497'},\n",
       " {'orderId': 'uw0eeb',\n",
       "  'orderAmount': 23,\n",
       "  'orderState': 'fulfilled',\n",
       "  'orderShippingAddress': '356 Elizabeth Inlet Suite 120\\nPort Joshuabury, NM 37681'},\n",
       " {'orderId': 'bn44oh',\n",
       "  'orderAmount': 43,\n",
       "  'orderState': 'fulfilled',\n",
       "  'orderShippingAddress': '5093 Bryan Forks\\nJoshuaton, FM 01565-9801'}]"
      ]
     },
     "execution_count": 39,
     "metadata": {},
     "output_type": "execute_result"
    }
   ],
   "source": [
    "jdf['orders'][2]"
   ]
  },
  {
   "cell_type": "code",
   "execution_count": 102,
   "metadata": {},
   "outputs": [],
   "source": [
    "ordersjdf = jdf[['orders']].copy()"
   ]
  },
  {
   "cell_type": "code",
   "execution_count": 103,
   "metadata": {},
   "outputs": [],
   "source": [
    "ordersjdf['orderId'] = ordersjdf['orders'].apply(lambda x : [i['orderId'] for i in x])\n",
    "ordersjdf['orderAmount'] = ordersjdf['orders'].apply(lambda x : [i['orderAmount'] for i in x])\n",
    "ordersjdf['orderState'] = ordersjdf['orders'].apply(lambda x : [i['orderState'] for i in x])\n",
    "ordersjdf['orderShippingAddress'] = ordersjdf['orders'].apply(lambda x : [i['orderShippingAddress'] for i in x])"
   ]
  },
  {
   "cell_type": "code",
   "execution_count": 104,
   "metadata": {},
   "outputs": [
    {
     "data": {
      "text/html": [
       "<div>\n",
       "<style scoped>\n",
       "    .dataframe tbody tr th:only-of-type {\n",
       "        vertical-align: middle;\n",
       "    }\n",
       "\n",
       "    .dataframe tbody tr th {\n",
       "        vertical-align: top;\n",
       "    }\n",
       "\n",
       "    .dataframe thead th {\n",
       "        text-align: right;\n",
       "    }\n",
       "</style>\n",
       "<table border=\"1\" class=\"dataframe\">\n",
       "  <thead>\n",
       "    <tr style=\"text-align: right;\">\n",
       "      <th></th>\n",
       "      <th>orders</th>\n",
       "      <th>orderId</th>\n",
       "      <th>orderAmount</th>\n",
       "      <th>orderState</th>\n",
       "      <th>orderShippingAddress</th>\n",
       "    </tr>\n",
       "    <tr>\n",
       "      <th>c_index</th>\n",
       "      <th></th>\n",
       "      <th></th>\n",
       "      <th></th>\n",
       "      <th></th>\n",
       "      <th></th>\n",
       "    </tr>\n",
       "  </thead>\n",
       "  <tbody>\n",
       "    <tr>\n",
       "      <th>70</th>\n",
       "      <td>[{'orderId': '12l1rw', 'orderAmount': 34, 'ord...</td>\n",
       "      <td>[12l1rw, pcmaex, hxwtsb, nm269f]</td>\n",
       "      <td>[34, 43, 15, 48]</td>\n",
       "      <td>[fulfilled, fulfilled, failed, fulfilled]</td>\n",
       "      <td>[586 Johnson Courts\\nSouth Timothymouth, OH 66...</td>\n",
       "    </tr>\n",
       "  </tbody>\n",
       "</table>\n",
       "</div>"
      ],
      "text/plain": [
       "                                                    orders  \\\n",
       "c_index                                                      \n",
       "70       [{'orderId': '12l1rw', 'orderAmount': 34, 'ord...   \n",
       "\n",
       "                                  orderId       orderAmount  \\\n",
       "c_index                                                       \n",
       "70       [12l1rw, pcmaex, hxwtsb, nm269f]  [34, 43, 15, 48]   \n",
       "\n",
       "                                        orderState  \\\n",
       "c_index                                              \n",
       "70       [fulfilled, fulfilled, failed, fulfilled]   \n",
       "\n",
       "                                      orderShippingAddress  \n",
       "c_index                                                     \n",
       "70       [586 Johnson Courts\\nSouth Timothymouth, OH 66...  "
      ]
     },
     "execution_count": 104,
     "metadata": {},
     "output_type": "execute_result"
    }
   ],
   "source": [
    "ordersjdf.sample()"
   ]
  },
  {
   "cell_type": "code",
   "execution_count": null,
   "metadata": {},
   "outputs": [],
   "source": []
  }
 ],
 "metadata": {
  "kernelspec": {
   "display_name": "Python 3",
   "language": "python",
   "name": "python3"
  },
  "language_info": {
   "codemirror_mode": {
    "name": "ipython",
    "version": 3
   },
   "file_extension": ".py",
   "mimetype": "text/x-python",
   "name": "python",
   "nbconvert_exporter": "python",
   "pygments_lexer": "ipython3",
   "version": "3.7.3"
  }
 },
 "nbformat": 4,
 "nbformat_minor": 2
}
